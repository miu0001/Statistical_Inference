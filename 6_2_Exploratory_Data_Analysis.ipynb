{
  "nbformat": 4,
  "nbformat_minor": 0,
  "metadata": {
    "colab": {
      "provenance": [],
      "authorship_tag": "ABX9TyNmppTyZGAguHCD3o5e/NJZ",
      "include_colab_link": true
    },
    "kernelspec": {
      "name": "python3",
      "display_name": "Python 3"
    },
    "language_info": {
      "name": "python"
    }
  },
  "cells": [
    {
      "cell_type": "markdown",
      "metadata": {
        "id": "view-in-github",
        "colab_type": "text"
      },
      "source": [
        "<a href=\"https://colab.research.google.com/github/miu0001/Statistical_Inference/blob/master/6_2_Exploratory_Data_Analysis.ipynb\" target=\"_parent\"><img src=\"https://colab.research.google.com/assets/colab-badge.svg\" alt=\"Open In Colab\"/></a>"
      ]
    },
    {
      "cell_type": "code",
      "execution_count": 1,
      "metadata": {
        "colab": {
          "base_uri": "https://localhost:8080/"
        },
        "id": "O5PT-_qUhET_",
        "outputId": "484fd7cf-9a87-4dc3-bcc5-3cd6ceb959bb"
      },
      "outputs": [
        {
          "output_type": "stream",
          "name": "stdout",
          "text": [
            "Stem | Leaves           | Frequency\n",
            "-----------------------------------\n",
            " 3   | 4 8             | 2\n",
            " 4   | 2 2 5 7         | 4\n",
            " 5   | 1 2 4 7 8 8 9   | 7\n",
            " 6   | 0 1 3 5 5 6 7 8 9 9 | 10\n",
            " 7   | 0 1 1 2 3 3 4 5 5 6 6 7 9 | 13\n",
            " 8   | 1 1 2 3 3 4 4 5 7 | 9\n",
            " 9   | 0 1 3 3 7       | 5\n"
          ]
        }
      ],
      "source": [
        "# Stem-and-Leaf Display in Python\n",
        "\n",
        "# Given dataset (50 exam scores)\n",
        "scores = [\n",
        "    93, 77, 67, 72, 52, 83, 66, 84, 59, 63,\n",
        "    75, 97, 84, 73, 81, 42, 61, 51, 91, 87,\n",
        "    34, 54, 71, 47, 79, 70, 65, 57, 90, 83,\n",
        "    58, 69, 82, 76, 71, 60, 38, 81, 74, 69,\n",
        "    68, 76, 85, 58, 45, 73, 75, 42, 93, 65\n",
        "]\n",
        "\n",
        "# Sort scores\n",
        "scores.sort()\n",
        "\n",
        "# Create dictionary for stems and leaves\n",
        "stem_leaf = {}\n",
        "for score in scores:\n",
        "    stem, leaf = divmod(score, 10)  # stem = tens digit, leaf = ones digit\n",
        "    stem_leaf.setdefault(stem, []).append(leaf)\n",
        "\n",
        "# Print stem-and-leaf display\n",
        "print(\"Stem | Leaves           | Frequency\")\n",
        "print(\"-----------------------------------\")\n",
        "for stem, leaves in stem_leaf.items():\n",
        "    leaves_str = \" \".join(str(l) for l in leaves)\n",
        "    print(f\" {stem}   | {leaves_str:<15} | {len(leaves)}\")"
      ]
    }
  ]
}